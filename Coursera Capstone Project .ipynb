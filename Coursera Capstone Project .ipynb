{
 "cells": [
  {
   "cell_type": "markdown",
   "metadata": {
    "collapsed": true
   },
   "source": [
    "## Coursera Capstone Project - The Battle of Neighbourhoods (Week 1)"
   ]
  },
  {
   "cell_type": "markdown",
   "metadata": {},
   "source": [
    "### Introduction / Business Problem"
   ]
  },
  {
   "cell_type": "markdown",
   "metadata": {},
   "source": [
    "I have a coffee shop in Philadelphia which is among top rated destinations in the city. Recently, I have seen a decline in the number of customers visiting my coffee shop and i want to solve this problem by utilizing Data Science Methodolody. \n",
    "\n",
    "I have thought of introducing a scheme which will not only serve as an efficient solution to my problem but can also increase my customer outreach in the city. Basically, I want to reward users who check-in to my coffee shop for say, 5 times in a month by offering them a free meal in their next visit.\n",
    "A person who checks in very frequently is accorded with his picture displayed on my Coffee shop’s website among ‘loyal customers’. On weekends, they can get their families along and enjoy and complementary meal for free.\n",
    "Further, I can utilize the data to promote and expand my business in the region."
   ]
  },
  {
   "cell_type": "markdown",
   "metadata": {},
   "source": [
    "### Data"
   ]
  },
  {
   "cell_type": "markdown",
   "metadata": {},
   "source": [
    "Foursquare data precisely USER CHECK ins will be collected and evaluated to get the frequenty visiting customers data."
   ]
  },
  {
   "cell_type": "markdown",
   "metadata": {},
   "source": []
  }
 ],
 "metadata": {
  "kernelspec": {
   "display_name": "Python 3.5",
   "language": "python",
   "name": "python3"
  },
  "language_info": {
   "codemirror_mode": {
    "name": "ipython",
    "version": 3
   },
   "file_extension": ".py",
   "mimetype": "text/x-python",
   "name": "python",
   "nbconvert_exporter": "python",
   "pygments_lexer": "ipython3",
   "version": "3.5.5"
  }
 },
 "nbformat": 4,
 "nbformat_minor": 1
}
