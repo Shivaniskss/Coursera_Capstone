{
 "cells": [
  {
   "cell_type": "markdown",
   "metadata": {},
   "source": [
    "### Importing Libraries"
   ]
  },
  {
   "cell_type": "code",
   "execution_count": 22,
   "metadata": {
    "scrolled": true
   },
   "outputs": [
    {
     "name": "stdout",
     "output_type": "stream",
     "text": [
      "Requirement not upgraded as not directly required: foursquare in /opt/conda/envs/DSX-Python35/lib/python3.5/site-packages\n",
      "Requirement not upgraded as not directly required: requests>=2.1 in /opt/conda/envs/DSX-Python35/lib/python3.5/site-packages (from foursquare)\n",
      "Requirement not upgraded as not directly required: six in /opt/conda/envs/DSX-Python35/lib/python3.5/site-packages (from foursquare)\n",
      "Requirement not upgraded as not directly required: chardet<3.1.0,>=3.0.2 in /opt/conda/envs/DSX-Python35/lib/python3.5/site-packages (from requests>=2.1->foursquare)\n",
      "Requirement not upgraded as not directly required: idna<2.7,>=2.5 in /opt/conda/envs/DSX-Python35/lib/python3.5/site-packages (from requests>=2.1->foursquare)\n",
      "Requirement not upgraded as not directly required: urllib3<1.23,>=1.21.1 in /opt/conda/envs/DSX-Python35/lib/python3.5/site-packages (from requests>=2.1->foursquare)\n",
      "Requirement not upgraded as not directly required: certifi>=2017.4.17 in /opt/conda/envs/DSX-Python35/lib/python3.5/site-packages (from requests>=2.1->foursquare)\n",
      "Libraries imported.\n"
     ]
    }
   ],
   "source": [
    "import requests \n",
    "import pandas as pd \n",
    "\n",
    "    \n",
    "# tranforming json file into a pandas dataframe library\n",
    "from pandas.io.json import json_normalize\n",
    "\n",
    "!pip install foursquare\n",
    "\n",
    "print ('Libraries imported.')"
   ]
  },
  {
   "cell_type": "markdown",
   "metadata": {},
   "source": [
    "### Define Foursquare Credentials and Version"
   ]
  },
  {
   "cell_type": "code",
   "execution_count": 26,
   "metadata": {
    "scrolled": true
   },
   "outputs": [
    {
     "name": "stdout",
     "output_type": "stream",
     "text": [
      "Your credentails:\n",
      "CLIENT_ID: xxxxxxxxx\n",
      "CLIENT_SECRET:xxxxxxxxxx\n"
     ]
    }
   ],
   "source": [
    "CLIENT_ID = 'xxxxxxxxx' # your Foursquare ID\n",
    "CLIENT_SECRET = 'xxxxxxxxxx' # your Foursquare Secret\n",
    "VERSION = '20171018' # Foursquare API version\n",
    "LIMIT = 30 # limit of number of venues returned by Foursquare API\n",
    "\n",
    "print ('Your credentails:')\n",
    "print ('CLIENT_ID: ' + CLIENT_ID)\n",
    "print ('CLIENT_SECRET:' + CLIENT_SECRET)"
   ]
  },
  {
   "cell_type": "markdown",
   "metadata": {},
   "source": [
    "### Explore a Foursquare User"
   ]
  },
  {
   "cell_type": "code",
   "execution_count": 24,
   "metadata": {},
   "outputs": [
    {
     "data": {
      "text/plain": [
       "dict_keys(['id', 'mayorships', 'gender', 'friends', 'lists', 'canonicalUrl', 'tips', 'photo', 'contact', 'lenses', 'checkins', 'photos', 'homeCity', 'bio', 'lastName', 'type', 'firstName'])"
      ]
     },
     "execution_count": 24,
     "metadata": {},
     "output_type": "execute_result"
    }
   ],
   "source": [
    "user_id = '522914' # user ID with most agree counts and complete profile\n",
    "\n",
    "url = 'https://api.foursquare.com/v2/users/{}?client_id={}&client_secret={}&v={}'.format(user_id, CLIENT_ID, CLIENT_SECRET, VERSION) # define URL\n",
    "\n",
    "# send GET request\n",
    "results = requests.get(url).json()\n",
    "user_data = results['response']['user']\n",
    "\n",
    "# display features associated with user\n",
    "user_data.keys()"
   ]
  },
  {
   "cell_type": "code",
   "execution_count": 25,
   "metadata": {},
   "outputs": [
    {
     "name": "stdout",
     "output_type": "stream",
     "text": [
      "First Name: Matt\n",
      "Last Name: Johnson\n",
      "Home City: Keene, New Hampshire\n"
     ]
    }
   ],
   "source": [
    "print ('First Name: ' + user_data['firstName'])\n",
    "print ('Last Name: ' + user_data['lastName'])\n",
    "print ('Home City: ' + user_data['homeCity'])"
   ]
  },
  {
   "cell_type": "markdown",
   "metadata": {},
   "source": [
    "### Get user data and Check Ins"
   ]
  },
  {
   "cell_type": "code",
   "execution_count": 9,
   "metadata": {
    "scrolled": true
   },
   "outputs": [
    {
     "name": "stdout",
     "output_type": "stream",
     "text": [
      "Requirement not upgraded as not directly required: foursquare in /opt/conda/envs/DSX-Python35/lib/python3.5/site-packages\n",
      "Requirement not upgraded as not directly required: six in /opt/conda/envs/DSX-Python35/lib/python3.5/site-packages (from foursquare)\n",
      "Requirement not upgraded as not directly required: requests>=2.1 in /opt/conda/envs/DSX-Python35/lib/python3.5/site-packages (from foursquare)\n",
      "Requirement not upgraded as not directly required: chardet<3.1.0,>=3.0.2 in /opt/conda/envs/DSX-Python35/lib/python3.5/site-packages (from requests>=2.1->foursquare)\n",
      "Requirement not upgraded as not directly required: idna<2.7,>=2.5 in /opt/conda/envs/DSX-Python35/lib/python3.5/site-packages (from requests>=2.1->foursquare)\n",
      "Requirement not upgraded as not directly required: urllib3<1.23,>=1.21.1 in /opt/conda/envs/DSX-Python35/lib/python3.5/site-packages (from requests>=2.1->foursquare)\n",
      "Requirement not upgraded as not directly required: certifi>=2017.4.17 in /opt/conda/envs/DSX-Python35/lib/python3.5/site-packages (from requests>=2.1->foursquare)\n",
      "Collecting rauth\n",
      "  Downloading https://files.pythonhosted.org/packages/43/aa/7c8e852275394d65ac5bf3ac9945ecaafe4d083089e09cb0a267efea389a/rauth-0.7.3.tar.gz\n",
      "Requirement not upgraded as not directly required: requests>=1.2.3 in /opt/conda/envs/DSX-Python35/lib/python3.5/site-packages (from rauth)\n",
      "Requirement not upgraded as not directly required: chardet<3.1.0,>=3.0.2 in /opt/conda/envs/DSX-Python35/lib/python3.5/site-packages (from requests>=1.2.3->rauth)\n",
      "Requirement not upgraded as not directly required: idna<2.7,>=2.5 in /opt/conda/envs/DSX-Python35/lib/python3.5/site-packages (from requests>=1.2.3->rauth)\n",
      "Requirement not upgraded as not directly required: urllib3<1.23,>=1.21.1 in /opt/conda/envs/DSX-Python35/lib/python3.5/site-packages (from requests>=1.2.3->rauth)\n",
      "Requirement not upgraded as not directly required: certifi>=2017.4.17 in /opt/conda/envs/DSX-Python35/lib/python3.5/site-packages (from requests>=1.2.3->rauth)\n",
      "Building wheels for collected packages: rauth\n",
      "  Running setup.py bdist_wheel for rauth ... \u001b[?25ldone\n",
      "\u001b[?25h  Stored in directory: /home/dsxuser/.cache/pip/wheels/7b/94/5d/81afc278dd5da884a0002563dc4b0fe85f9067a5a40f76f858\n",
      "Successfully built rauth\n",
      "Installing collected packages: rauth\n",
      "Successfully installed rauth-0.7.3\n"
     ]
    }
   ],
   "source": [
    "!pip install foursquare\n",
    "!pip install rauth"
   ]
  },
  {
   "cell_type": "markdown",
   "metadata": {},
   "source": [
    "### Get Venue data"
   ]
  },
  {
   "cell_type": "code",
   "execution_count": 10,
   "metadata": {},
   "outputs": [],
   "source": [
    "import urllib.request\n",
    "import json"
   ]
  },
  {
   "cell_type": "code",
   "execution_count": 11,
   "metadata": {},
   "outputs": [],
   "source": [
    "url='https://api.foursquare.com/v2/venues/search?ll=40.7,-74&client_id=RE1KGISJCHZXL1BIKGR21N5RXCX4S2VO0J3QEFWFHAJ1R0YV&client_secret=S1DBFLZGO3K4Y45X1LCRD4J0CHHORYWB5H1UIT2AISUPYOXD&v=20180808'"
   ]
  },
  {
   "cell_type": "code",
   "execution_count": 12,
   "metadata": {},
   "outputs": [
    {
     "name": "stdout",
     "output_type": "stream",
     "text": [
      "{'response': {'confident': False, 'venues': [{'id': '53ff2935498e161412b3e871', 'location': {'lng': -73.99976911704667, 'lat': 40.699657951708524, 'country': 'United States', 'state': 'NY', 'labeledLatLngs': [{'lng': -73.99976911704667, 'label': 'display', 'lat': 40.699657951708524}], 'distance': 42, 'cc': 'US', 'formattedAddress': ['Brooklyn, NY', 'United States'], 'city': 'Brooklyn'}, 'name': 'Brooklyn Bridge Park - Pier 2 Yoga Court', 'referralId': 'v-1555701891', 'categories': [{'id': '4bf58dd8d48988d102941735', 'shortName': 'Yoga Studio', 'pluralName': 'Yoga Studios', 'primary': True, 'icon': {'suffix': '.png', 'prefix': 'https://ss3.4sqi.net/img/categories_v2/shops/gym_yogastudio_'}, 'name': 'Yoga Studio'}], 'hasPerk': False}, {'id': '4c9003d85fdf6dcbf83b2d91', 'location': {'lng': -73.99516666898539, 'postalCode': '11201', 'lat': 40.69582967607498, 'country': 'United States', 'address': '55 Pierrepont St', 'labeledLatLngs': [{'lng': -73.99516666898539, 'label': 'display', 'lat': 40.69582967607498}], 'distance': 617, 'state': 'NY', 'cc': 'US', 'formattedAddress': ['55 Pierrepont St', 'Brooklyn, NY 11201', 'United States'], 'city': 'Brooklyn'}, 'name': '55 Pierrepont St', 'referralId': 'v-1555701891', 'categories': [{'id': '4bf58dd8d48988d130941735', 'shortName': 'Building', 'pluralName': 'Buildings', 'primary': True, 'icon': {'suffix': '.png', 'prefix': 'https://ss3.4sqi.net/img/categories_v2/building/default_'}, 'name': 'Building'}], 'hasPerk': False}, {'id': '51eabef6498e10cf3aea7942', 'location': {'formattedAddress': ['Furman St (Brooklyn Bridge Park Greenway)', 'Brooklyn, NY 11201', 'United States'], 'country': 'United States', 'labeledLatLngs': [{'lng': -73.99793274204788, 'label': 'display', 'lat': 40.69957016220183}], 'distance': 180, 'cc': 'US', 'state': 'NY', 'lng': -73.99793274204788, 'postalCode': '11201', 'lat': 40.69957016220183, 'address': 'Furman St', 'crossStreet': 'Brooklyn Bridge Park Greenway', 'city': 'Brooklyn'}, 'name': 'Brooklyn Bridge Park - Pier 2', 'referralId': 'v-1555701891', 'categories': [{'id': '4bf58dd8d48988d163941735', 'shortName': 'Park', 'pluralName': 'Parks', 'primary': True, 'icon': {'suffix': '.png', 'prefix': 'https://ss3.4sqi.net/img/categories_v2/parks_outdoors/park_'}, 'name': 'Park'}], 'hasPerk': False}, {'id': '51c4387a498eccfe93732925', 'location': {'lng': -73.99920701980591, 'state': 'NY', 'lat': 40.696160206870445, 'country': 'United States', 'address': 'Brooklyn Bridge Pk Greenway', 'labeledLatLngs': [{'lng': -73.99920701980591, 'label': 'display', 'lat': 40.696160206870445}], 'distance': 432, 'cc': 'US', 'formattedAddress': ['Brooklyn Bridge Pk Greenway', 'Brooklyn, NY', 'United States'], 'city': 'Brooklyn'}, 'name': 'Brooklyn Bridge Park Greenway', 'referralId': 'v-1555701891', 'categories': [{'id': '4f4528bc4b90abdf24c9de85', 'shortName': 'Athletics & Sports', 'pluralName': 'Athletics & Sports', 'primary': True, 'icon': {'suffix': '.png', 'prefix': 'https://ss3.4sqi.net/img/categories_v2/shops/sports_outdoors_'}, 'name': 'Athletics & Sports'}], 'hasPerk': False}, {'id': '557724e4498e1fa44d508a9c', 'location': {'lng': -74.00772752007857, 'postalCode': '10005', 'lat': 40.703645703132146, 'country': 'United States', 'address': '32 Old Slip', 'labeledLatLngs': [{'lng': -74.00772752007857, 'label': 'display', 'lat': 40.703645703132146}], 'distance': 768, 'state': 'NY', 'cc': 'US', 'formattedAddress': ['32 Old Slip', 'New York, NY 10005', 'United States'], 'city': 'New York'}, 'name': 'The Bloc', 'referralId': 'v-1555701891', 'categories': [{'id': '52e81612bcbc57f1066b7a3d', 'shortName': 'Advertising Agency', 'pluralName': 'Advertising Agencies', 'primary': True, 'icon': {'suffix': '.png', 'prefix': 'https://ss3.4sqi.net/img/categories_v2/building/default_'}, 'name': 'Advertising Agency'}], 'hasPerk': False}, {'id': '5284fe6811d2114d599b3e15', 'location': {'formattedAddress': ['Brooklyn Bridge Pk Greenway (at Furman St)', 'Brooklyn, NY 11201', 'United States'], 'country': 'United States', 'labeledLatLngs': [{'lng': -73.99944305419922, 'label': 'display', 'lat': 40.69780332891386}], 'distance': 249, 'cc': 'US', 'state': 'NY', 'lng': -73.99944305419922, 'postalCode': '11201', 'lat': 40.69780332891386, 'address': 'Brooklyn Bridge Pk Greenway', 'crossStreet': 'at Furman St', 'city': 'Brooklyn'}, 'name': 'Brooklyn Bridge Park - Pier 3', 'referralId': 'v-1555701891', 'categories': [{'id': '4bf58dd8d48988d163941735', 'shortName': 'Park', 'pluralName': 'Parks', 'primary': True, 'icon': {'suffix': '.png', 'prefix': 'https://ss3.4sqi.net/img/categories_v2/parks_outdoors/park_'}, 'name': 'Park'}], 'hasPerk': False}, {'id': '4ae8906ef964a52071b021e3', 'location': {'formattedAddress': ['WTC (at W Broadway & Greenwich St.)', 'New York, NY 10006', 'United States'], 'country': 'United States', 'neighborhood': 'Financial District', 'labeledLatLngs': [{'lng': -74.01168714087387, 'label': 'display', 'lat': 40.71180738621939}], 'distance': 1643, 'cc': 'US', 'state': 'NY', 'lng': -74.01168714087387, 'postalCode': '10006', 'lat': 40.71180738621939, 'address': 'WTC', 'crossStreet': 'at W Broadway & Greenwich St.', 'city': 'New York'}, 'name': 'World Trade Center PATH Station', 'referralId': 'v-1555701891', 'categories': [{'id': '4bf58dd8d48988d1fd931735', 'shortName': 'Metro', 'pluralName': 'Metro Stations', 'primary': True, 'icon': {'suffix': '.png', 'prefix': 'https://ss3.4sqi.net/img/categories_v2/travel/subway_'}, 'name': 'Metro Station'}], 'hasPerk': False}, {'id': '5b6f15f0419a9e00392c13c4', 'location': {'lng': -73.99957, 'postalCode': '11201', 'lat': 40.697838, 'country': 'United States', 'state': 'NY', 'labeledLatLngs': [{'lng': -73.99957, 'label': 'display', 'lat': 40.697838}], 'distance': 243, 'cc': 'US', 'formattedAddress': ['Brooklyn, NY 11201', 'United States'], 'city': 'Brooklyn'}, 'name': 'The Infinity Mirrors Exhibit', 'referralId': 'v-1555701891', 'categories': [{'id': '4bf58dd8d48988d163941735', 'shortName': 'Park', 'pluralName': 'Parks', 'primary': True, 'icon': {'suffix': '.png', 'prefix': 'https://ss3.4sqi.net/img/categories_v2/parks_outdoors/park_'}, 'name': 'Park'}], 'hasPerk': False}, {'id': '5054eb43e4b04ed4f0dd1b30', 'location': {'lng': -73.99953, 'lat': 40.69875, 'country': 'United States', 'state': 'New York', 'labeledLatLngs': [{'lng': -73.99953, 'label': 'display', 'lat': 40.69875}], 'distance': 144, 'cc': 'US', 'formattedAddress': ['New York', 'United States']}, 'name': 'La cabana', 'referralId': 'v-1555701891', 'categories': [{'id': '4bf58dd8d48988d154941735', 'shortName': 'Cuban', 'pluralName': 'Cuban Restaurants', 'primary': True, 'icon': {'suffix': '.png', 'prefix': 'https://ss3.4sqi.net/img/categories_v2/food/cuban_'}, 'name': 'Cuban Restaurant'}], 'hasPerk': False}, {'id': '4b92e01bf964a5208b2334e3', 'location': {'lng': -73.996277, 'lat': 40.698197, 'country': 'United States', 'state': 'NY', 'labeledLatLngs': [{'lng': -73.996277, 'label': 'display', 'lat': 40.698197}], 'distance': 372, 'cc': 'US', 'formattedAddress': ['Jackson hole, NY', 'United States'], 'city': 'Jackson hole'}, 'name': 'snake river lodge', 'referralId': 'v-1555701891', 'categories': [], 'hasPerk': False}, {'id': '53af4e97498e0bd7ae45c926', 'location': {'lng': -73.99834932863362, 'state': 'NY', 'lat': 40.699821897299444, 'country': 'United States', 'address': 'Pier 2', 'labeledLatLngs': [{'lng': -73.99834932863362, 'label': 'display', 'lat': 40.699821897299444}], 'distance': 140, 'cc': 'US', 'formattedAddress': ['Pier 2', 'Brooklyn, NY', 'United States'], 'city': 'Brooklyn'}, 'name': 'Brooklyn Bridge Park Skating Rink', 'referralId': 'v-1555701891', 'categories': [{'id': '52e81612bcbc57f1066b79e9', 'shortName': 'Roller Rink', 'pluralName': 'Roller Rinks', 'primary': True, 'icon': {'suffix': '.png', 'prefix': 'https://ss3.4sqi.net/img/categories_v2/arts_entertainment/default_'}, 'name': 'Roller Rink'}], 'hasPerk': False}, {'id': '4d0d6b7d903d37048116c455', 'location': {'lng': -74.00287943703214, 'distance': 259, 'lat': 40.700825140265614, 'country': 'United States', 'address': '23rd', 'labeledLatLngs': [{'lng': -74.00287943703214, 'label': 'display', 'lat': 40.700825140265614}], 'crossStreet': 'Fdr drive', 'state': 'NY', 'cc': 'US', 'formattedAddress': ['23rd (Fdr drive)', 'New York, NY', 'United States'], 'city': 'New York'}, 'name': 'City Light Cruise', 'referralId': 'v-1555701891', 'categories': [{'id': '4bf58dd8d48988d12d951735', 'shortName': 'Boat / Ferry', 'pluralName': 'Boats or Ferries', 'primary': True, 'icon': {'suffix': '.png', 'prefix': 'https://ss3.4sqi.net/img/categories_v2/travel/boat_'}, 'name': 'Boat or Ferry'}], 'hasPerk': False}, {'id': '5b4149016336be002c941465', 'location': {'lng': -73.998241, 'postalCode': '11201', 'lat': 40.697478, 'country': 'United States', 'state': 'NY', 'labeledLatLngs': [{'lng': -73.998241, 'label': 'display', 'lat': 40.697478}], 'distance': 317, 'cc': 'US', 'formattedAddress': ['New York, NY 11201', 'United States'], 'city': 'New York'}, 'name': 'Pier 3 Uplands', 'referralId': 'v-1555701891', 'categories': [{'id': '4bf58dd8d48988d163941735', 'shortName': 'Park', 'pluralName': 'Parks', 'primary': True, 'icon': {'suffix': '.png', 'prefix': 'https://ss3.4sqi.net/img/categories_v2/parks_outdoors/park_'}, 'name': 'Park'}], 'hasPerk': False}, {'id': '4c67633d8e9120a1d3ddda64', 'location': {'formattedAddress': ['Park Place (Washington)', 'Brooklyn, NY 11238', 'United States'], 'country': 'United States', 'labeledLatLngs': [{'lng': -73.99776681, 'label': 'display', 'lat': 40.7015}], 'distance': 251, 'cc': 'US', 'state': 'NY', 'lng': -73.99776681, 'postalCode': '11238', 'lat': 40.7015, 'address': 'Park Place', 'crossStreet': 'Washington', 'city': 'Brooklyn'}, 'name': 'Shroud Park', 'referralId': 'v-1555701891', 'categories': [{'id': '4bf58dd8d48988d163941735', 'shortName': 'Park', 'pluralName': 'Parks', 'primary': True, 'icon': {'suffix': '.png', 'prefix': 'https://ss3.4sqi.net/img/categories_v2/parks_outdoors/park_'}, 'name': 'Park'}], 'hasPerk': False}, {'id': '4c3a5ad83849c92880e0c2b1', 'location': {'lng': -73.99627425075094, 'postalCode': '11201', 'lat': 40.70283693041026, 'country': 'United States', 'address': 'Brooklyn Bridge Park - Pier 1', 'labeledLatLngs': [{'lng': -73.99627425075094, 'label': 'display', 'lat': 40.70283693041026}], 'distance': 445, 'state': 'NY', 'cc': 'US', 'formattedAddress': ['Brooklyn Bridge Park - Pier 1', 'Brooklyn, NY 11201', 'United States'], 'city': 'Brooklyn'}, 'name': 'Blue Marble Ice Cream', 'referralId': 'v-1555701891', 'categories': [{'id': '4bf58dd8d48988d1c9941735', 'shortName': 'Ice Cream', 'pluralName': 'Ice Cream Shops', 'primary': True, 'icon': {'suffix': '.png', 'prefix': 'https://ss3.4sqi.net/img/categories_v2/food/icecream_'}, 'name': 'Ice Cream Shop'}], 'hasPerk': False}, {'id': '5aa18c1597cf5a1b3f933c29', 'location': {'lng': -74.003333, 'state': 'NY', 'lat': 40.700556, 'country': 'United States', 'distance': 288, 'labeledLatLngs': [{'lng': -74.003333, 'label': 'display', 'lat': 40.700556}], 'crossStreet': 'at East River', 'cc': 'US', 'formattedAddress': ['at East River', 'New York, NY', 'United States'], 'city': 'New York'}, 'name': 'Clark Street Tunnel', 'referralId': 'v-1555701891', 'categories': [{'id': '52f2ab2ebcbc57f1066b8b4a', 'shortName': 'Tunnel', 'pluralName': 'Tunnels', 'primary': True, 'icon': {'suffix': '.png', 'prefix': 'https://ss3.4sqi.net/img/categories_v2/travel/default_'}, 'name': 'Tunnel'}], 'hasPerk': False}, {'id': '4d9788e5daec224b4642333e', 'location': {'lng': -74.00043, 'postalCode': '10475', 'lat': 40.698978, 'country': 'United States', 'address': '140 Elgar Pl', 'labeledLatLngs': [{'lng': -74.00043, 'label': 'display', 'lat': 40.698978}], 'distance': 119, 'state': 'NY', 'cc': 'US', 'formattedAddress': ['140 Elgar Pl', 'Bronx, NY 10475', 'United States'], 'city': 'Bronx'}, 'name': 'Dr Shur', 'referralId': 'v-1555701891', 'categories': [], 'hasPerk': False}, {'id': '4f603afae4b006673a95c90c', 'location': {'lng': -74.00100292161058, 'lat': 40.70219811621222, 'country': 'United States', 'state': 'New York', 'labeledLatLngs': [{'lng': -74.00100292161058, 'label': 'display', 'lat': 40.70219811621222}], 'distance': 258, 'cc': 'US', 'formattedAddress': ['New York', 'United States']}, 'name': 'Best Of New York', 'referralId': 'v-1555701891', 'categories': [{'id': '4bf58dd8d48988d146941735', 'shortName': 'Deli / Bodega', 'pluralName': 'Delis / Bodegas', 'primary': True, 'icon': {'suffix': '.png', 'prefix': 'https://ss3.4sqi.net/img/categories_v2/food/deli_'}, 'name': 'Deli / Bodega'}], 'hasPerk': False}, {'id': '5339a67f498ea66c3d45561a', 'location': {'lng': -73.99908363819122, 'postalCode': '11201', 'lat': 40.696595394129254, 'country': 'United States', 'address': 'Brooklyn Bridge Pk Greenway', 'labeledLatLngs': [{'lng': -73.99908363819122, 'label': 'display', 'lat': 40.696595394129254}], 'distance': 386, 'state': 'NY', 'cc': 'US', 'formattedAddress': ['Brooklyn Bridge Pk Greenway', 'Brooklyn, NY 11201', 'United States'], 'city': 'Brooklyn'}, 'name': 'Pier 4 Beach', 'referralId': 'v-1555701891', 'categories': [{'id': '4bf58dd8d48988d1e2941735', 'shortName': 'Beach', 'pluralName': 'Beaches', 'primary': True, 'icon': {'suffix': '.png', 'prefix': 'https://ss3.4sqi.net/img/categories_v2/parks_outdoors/beach_'}, 'name': 'Beach'}], 'hasPerk': False}, {'id': '4ce52312dfaef04d0a436c83', 'location': {'lng': -73.99704324157996, 'postalCode': '10005', 'lat': 40.69948154492081, 'country': 'United States', 'address': '110 Wall St', 'labeledLatLngs': [{'lng': -73.99704324157996, 'label': 'display', 'lat': 40.69948154492081}], 'distance': 256, 'state': 'NY', 'cc': 'US', 'formattedAddress': ['110 Wall St', 'New York, NY 10005', 'United States'], 'city': 'New York'}, 'name': 'Avon Walk for Breast Cancer NY Office', 'referralId': 'v-1555701891', 'categories': [{'id': '50328a8e91d4c4b30a586d6c', 'shortName': 'Non-Profit', 'pluralName': 'Non-Profits', 'primary': True, 'icon': {'suffix': '.png', 'prefix': 'https://ss3.4sqi.net/img/categories_v2/building/default_'}, 'name': 'Non-Profit'}], 'hasPerk': False}, {'id': '51ec27ce498e6aba2b159f3a', 'location': {'lng': -73.99980928755299, 'lat': 40.70149150976206, 'country': 'United States', 'state': 'NY', 'labeledLatLngs': [{'lng': -73.99980928755299, 'label': 'display', 'lat': 40.70149150976206}], 'distance': 166, 'cc': 'US', 'formattedAddress': ['New York, NY', 'United States'], 'city': 'New York'}, 'name': 'China Max', 'referralId': 'v-1555701891', 'categories': [{'id': '4bf58dd8d48988d145941735', 'shortName': 'Chinese', 'pluralName': 'Chinese Restaurants', 'primary': True, 'icon': {'suffix': '.png', 'prefix': 'https://ss3.4sqi.net/img/categories_v2/food/asian_'}, 'name': 'Chinese Restaurant'}], 'hasPerk': False}, {'id': '58cdf02f2a1982041460ccf4', 'location': {'lng': -73.997233, 'postalCode': '11201', 'lat': 40.69856, 'country': 'United States', 'state': 'NY', 'labeledLatLngs': [{'lng': -73.997233, 'label': 'display', 'lat': 40.69856}], 'distance': 283, 'cc': 'US', 'formattedAddress': ['New York, NY 11201', 'United States'], 'city': 'New York'}, 'name': 'Citibike - Pier 2 Brooklyn Bridge Park', 'referralId': 'v-1555701891', 'categories': [{'id': '4e4c9077bd41f78e849722f9', 'shortName': 'Bike', 'pluralName': 'Bike Rentals / Bike Shares', 'primary': True, 'icon': {'suffix': '.png', 'prefix': 'https://ss3.4sqi.net/img/categories_v2/shops/bikeshop_'}, 'name': 'Bike Rental / Bike Share'}], 'hasPerk': False}, {'id': '5295dc7f11d2d6647ee2a8a6', 'location': {'lng': -73.997108, 'lat': 40.69954, 'country': 'United States', 'state': 'NY', 'labeledLatLngs': [{'lng': -73.997108, 'label': 'display', 'lat': 40.69954}], 'distance': 249, 'cc': 'US', 'formattedAddress': ['Brooklyn, NY', 'United States'], 'city': 'Brooklyn'}, 'name': 'Turner Construction Site: Pier 2', 'referralId': 'v-1555701891', 'categories': [{'id': '4bf58dd8d48988d163941735', 'shortName': 'Park', 'pluralName': 'Parks', 'primary': True, 'icon': {'suffix': '.png', 'prefix': 'https://ss3.4sqi.net/img/categories_v2/parks_outdoors/park_'}, 'name': 'Park'}], 'hasPerk': False}, {'id': '4ff764c3e4b01ead023da588', 'venuePage': {'id': '33421350'}, 'location': {'formattedAddress': ['334 Furman St (Brooklyn Bridge Park)', 'Brooklyn, NY 11201', 'United States'], 'country': 'United States', 'labeledLatLngs': [{'lng': -73.996479, 'label': 'display', 'lat': 40.700051}], 'distance': 297, 'cc': 'US', 'state': 'NY', 'lng': -73.996479, 'postalCode': '11201', 'lat': 40.700051, 'address': '334 Furman St', 'crossStreet': 'Brooklyn Bridge Park', 'city': 'Brooklyn'}, 'name': 'Brooklyn Beach Shack', 'referralId': 'v-1555701891', 'categories': [{'id': '4bf58dd8d48988d16c941735', 'shortName': 'Burgers', 'pluralName': 'Burger Joints', 'primary': True, 'icon': {'suffix': '.png', 'prefix': 'https://ss3.4sqi.net/img/categories_v2/food/burger_'}, 'name': 'Burger Joint'}], 'hasPerk': False}, {'id': '4e1e2225ae60ef672d8572d0', 'location': {'lng': -73.99748149848693, 'postalCode': '11201', 'lat': 40.70178034485588, 'country': 'United States', 'address': 'Brooklyn Bridge Park', 'labeledLatLngs': [{'lng': -73.99748149848693, 'label': 'display', 'lat': 40.70178034485588}], 'distance': 290, 'state': 'NY', 'cc': 'US', 'formattedAddress': ['Brooklyn Bridge Park', 'New York, NY 11201', 'United States'], 'city': 'New York'}, 'name': 'Metropolitan Opera In The Park', 'referralId': 'v-1555701891', 'categories': [{'id': '5032792091d4c4b30a586d5c', 'shortName': 'Concert Hall', 'pluralName': 'Concert Halls', 'primary': True, 'icon': {'suffix': '.png', 'prefix': 'https://ss3.4sqi.net/img/categories_v2/arts_entertainment/musicvenue_'}, 'name': 'Concert Hall'}], 'hasPerk': False}, {'id': '4b7c8bedf964a5202c9a2fe3', 'location': {'lng': -73.99635251290523, 'postalCode': '11201', 'lat': 40.69822184225379, 'country': 'United States', 'address': '160 Columbia Hts', 'labeledLatLngs': [{'lng': -73.99635251290523, 'label': 'display', 'lat': 40.69822184225379}], 'distance': 365, 'state': 'NY', 'cc': 'US', 'formattedAddress': ['160 Columbia Hts', 'Brooklyn, NY 11201', 'United States'], 'city': 'Brooklyn'}, 'name': '160 Columbia Heights', 'referralId': 'v-1555701891', 'categories': [{'id': '4d954b06a243a5684965b473', 'shortName': 'Residential', 'pluralName': 'Residential Buildings (Apartments / Condos)', 'primary': True, 'icon': {'suffix': '.png', 'prefix': 'https://ss3.4sqi.net/img/categories_v2/building/apartment_'}, 'name': 'Residential Building (Apartment / Condo)'}], 'hasPerk': False}, {'id': '4e430e24483b13c708de1740', 'location': {'lng': -73.9998494, 'lat': 40.7026078, 'country': 'United States', 'state': 'New York', 'labeledLatLngs': [{'lng': -73.9998494, 'label': 'display', 'lat': 40.7026078}], 'distance': 290, 'cc': 'US', 'formattedAddress': ['New York', 'United States']}, 'name': 'Blaylock Consulting Group', 'referralId': 'v-1555701891', 'categories': [{'id': '4bf58dd8d48988d127941735', 'shortName': 'Conference room', 'pluralName': 'Conference Rooms', 'primary': True, 'icon': {'suffix': '.png', 'prefix': 'https://ss3.4sqi.net/img/categories_v2/building/office_conferenceroom_'}, 'name': 'Conference Room'}], 'hasPerk': False}, {'id': '505dd2ffe4b023e440108ad5', 'location': {'lng': -73.997410519693, 'postalCode': '11201', 'lat': 40.70166811321965, 'country': 'United States', 'address': 'Brooklyn Bridge Park', 'labeledLatLngs': [{'lng': -73.997410519693, 'label': 'display', 'lat': 40.70166811321965}], 'distance': 286, 'state': 'NY', 'cc': 'US', 'formattedAddress': ['Brooklyn Bridge Park', 'Brooklyn, NY 11201', 'United States'], 'city': 'Brooklyn'}, 'name': 'Yoga Park', 'referralId': 'v-1555701891', 'categories': [{'id': '4bf58dd8d48988d1f1931735', 'shortName': 'Entertainment', 'pluralName': 'General Entertainment', 'primary': True, 'icon': {'suffix': '.png', 'prefix': 'https://ss3.4sqi.net/img/categories_v2/arts_entertainment/default_'}, 'name': 'General Entertainment'}], 'hasPerk': False}, {'id': '4b5882e7f964a520665b28e3', 'location': {'lng': -74.00542192619163, 'postalCode': '10038', 'lat': 40.70559372903046, 'country': 'United States', 'address': '180 Maiden Ln', 'labeledLatLngs': [{'lng': -74.00542192619163, 'label': 'display', 'lat': 40.70559372903046}], 'distance': 772, 'state': 'NY', 'cc': 'US', 'formattedAddress': ['180 Maiden Ln', 'New York, NY 10038', 'United States'], 'city': 'New York'}, 'name': '180 Maiden Lane', 'referralId': 'v-1555701891', 'categories': [{'id': '4bf58dd8d48988d130941735', 'shortName': 'Building', 'pluralName': 'Buildings', 'primary': True, 'icon': {'suffix': '.png', 'prefix': 'https://ss3.4sqi.net/img/categories_v2/building/default_'}, 'name': 'Building'}], 'hasPerk': False}, {'id': '50f42c19e4b0966177888196', 'location': {'lng': -74.00187518794742, 'postalCode': '11201', 'lat': 40.698481083286104, 'country': 'United States', 'state': 'NY', 'labeledLatLngs': [{'lng': -74.00187518794742, 'label': 'display', 'lat': 40.698481083286104}], 'distance': 231, 'cc': 'US', 'formattedAddress': ['Brooklyn, NY 11201', 'United States'], 'city': 'Brooklyn'}, 'name': 'Columbia Hts at Clark St', 'referralId': 'v-1555701891', 'categories': [{'id': '4f2a25ac4b909258e854f55f', 'shortName': 'Neighborhood', 'pluralName': 'Neighborhoods', 'primary': True, 'icon': {'suffix': '.png', 'prefix': 'https://ss3.4sqi.net/img/categories_v2/parks_outdoors/neighborhood_'}, 'name': 'Neighborhood'}], 'hasPerk': False}]}, 'meta': {'requestId': '5cba20839fb6b776fc85aef5', 'code': 200}}\n"
     ]
    }
   ],
   "source": [
    "response = urllib.request.urlopen(url)\n",
    "str_response = response.read().decode('utf-8')\n",
    "obj = json.loads(str_response)\n",
    "print(obj)"
   ]
  },
  {
   "cell_type": "markdown",
   "metadata": {},
   "source": [
    "## Explore nearby Venues, User  Check in count"
   ]
  },
  {
   "cell_type": "code",
   "execution_count": 13,
   "metadata": {},
   "outputs": [],
   "source": [
    "latitude = 39.9526\n",
    "longitude = -75.1652"
   ]
  },
  {
   "cell_type": "code",
   "execution_count": 14,
   "metadata": {},
   "outputs": [],
   "source": [
    "search_term = 'Cafe'\n",
    "radius = 2000"
   ]
  },
  {
   "cell_type": "code",
   "execution_count": 15,
   "metadata": {},
   "outputs": [
    {
     "data": {
      "text/plain": [
       "'https://api.foursquare.com/v2/venues/search?client_id=RE1KGISJCHZXL1BIKGR21N5RXCX4S2VO0J3QEFWFHAJ1R0YV&client_secret=S1DBFLZGO3K4Y45X1LCRD4J0CHHORYWB5H1UIT2AISUPYOXD&ll=39.9526,-75.1652&v=20171018&query=Cafe&radius=2000&limit=30'"
      ]
     },
     "execution_count": 15,
     "metadata": {},
     "output_type": "execute_result"
    }
   ],
   "source": [
    "url3 = 'https://api.foursquare.com/v2/venues/search?client_id={}&client_secret={}&ll={},{}&v={}&query={}&radius={}&limit={}'.format(CLIENT_ID, CLIENT_SECRET, latitude, longitude, VERSION, search_term, radius, LIMIT)\n",
    "url3"
   ]
  },
  {
   "cell_type": "code",
   "execution_count": 74,
   "metadata": {},
   "outputs": [
    {
     "data": {
      "text/html": [
       "<div>\n",
       "<style scoped>\n",
       "    .dataframe tbody tr th:only-of-type {\n",
       "        vertical-align: middle;\n",
       "    }\n",
       "\n",
       "    .dataframe tbody tr th {\n",
       "        vertical-align: top;\n",
       "    }\n",
       "\n",
       "    .dataframe thead th {\n",
       "        text-align: right;\n",
       "    }\n",
       "</style>\n",
       "<table border=\"1\" class=\"dataframe\">\n",
       "  <thead>\n",
       "    <tr style=\"text-align: right;\">\n",
       "      <th></th>\n",
       "      <th>beenHere.count</th>\n",
       "      <th>beenHere.lastCheckinExpiredAt</th>\n",
       "      <th>beenHere.marked</th>\n",
       "      <th>beenHere.unconfirmedCount</th>\n",
       "      <th>categories</th>\n",
       "      <th>hasPerk</th>\n",
       "      <th>id</th>\n",
       "      <th>location.address</th>\n",
       "      <th>location.cc</th>\n",
       "      <th>location.city</th>\n",
       "      <th>location.country</th>\n",
       "      <th>location.crossStreet</th>\n",
       "      <th>location.distance</th>\n",
       "      <th>location.formattedAddress</th>\n",
       "      <th>location.labeledLatLngs</th>\n",
       "      <th>location.lat</th>\n",
       "      <th>location.lng</th>\n",
       "      <th>location.neighborhood</th>\n",
       "      <th>location.postalCode</th>\n",
       "      <th>location.state</th>\n",
       "      <th>name</th>\n",
       "      <th>referralId</th>\n",
       "      <th>stats.checkinsCount</th>\n",
       "      <th>stats.tipCount</th>\n",
       "      <th>stats.usersCount</th>\n",
       "      <th>stats.visitsCount</th>\n",
       "      <th>venueChains</th>\n",
       "      <th>venuePage.id</th>\n",
       "      <th>verified</th>\n",
       "    </tr>\n",
       "  </thead>\n",
       "  <tbody>\n",
       "    <tr>\n",
       "      <th>0</th>\n",
       "      <td>0</td>\n",
       "      <td>0</td>\n",
       "      <td>False</td>\n",
       "      <td>0</td>\n",
       "      <td>[{'id': '4bf58dd8d48988d16d941735', 'name': 'C...</td>\n",
       "      <td>False</td>\n",
       "      <td>4a5eba3cf964a5201cbf1fe3</td>\n",
       "      <td>1636 Walnut St</td>\n",
       "      <td>US</td>\n",
       "      <td>Philadelphia</td>\n",
       "      <td>United States</td>\n",
       "      <td>at 17th St</td>\n",
       "      <td>440</td>\n",
       "      <td>[1636 Walnut St (at 17th St), Philadelphia, PA...</td>\n",
       "      <td>[{'lng': -75.16899160571018, 'label': 'display...</td>\n",
       "      <td>39.949920</td>\n",
       "      <td>-75.168992</td>\n",
       "      <td>NaN</td>\n",
       "      <td>19103</td>\n",
       "      <td>PA</td>\n",
       "      <td>Capital One 360 Café</td>\n",
       "      <td>v-1555692433</td>\n",
       "      <td>0</td>\n",
       "      <td>0</td>\n",
       "      <td>0</td>\n",
       "      <td>0</td>\n",
       "      <td>[]</td>\n",
       "      <td>NaN</td>\n",
       "      <td>True</td>\n",
       "    </tr>\n",
       "    <tr>\n",
       "      <th>1</th>\n",
       "      <td>0</td>\n",
       "      <td>0</td>\n",
       "      <td>False</td>\n",
       "      <td>0</td>\n",
       "      <td>[{'id': '4bf58dd8d48988d155941735', 'name': 'G...</td>\n",
       "      <td>False</td>\n",
       "      <td>40b28c80f964a520d3f81ee3</td>\n",
       "      <td>264 S 16th St</td>\n",
       "      <td>US</td>\n",
       "      <td>Philadelphia</td>\n",
       "      <td>United States</td>\n",
       "      <td>btwn Locust &amp; Spruce St</td>\n",
       "      <td>597</td>\n",
       "      <td>[264 S 16th St (btwn Locust &amp; Spruce St), Phil...</td>\n",
       "      <td>[{'lng': -75.1680031887503, 'label': 'display'...</td>\n",
       "      <td>39.947681</td>\n",
       "      <td>-75.168003</td>\n",
       "      <td>Rittenhouse Square</td>\n",
       "      <td>19102</td>\n",
       "      <td>PA</td>\n",
       "      <td>Monk's Cafe</td>\n",
       "      <td>v-1555692433</td>\n",
       "      <td>0</td>\n",
       "      <td>0</td>\n",
       "      <td>0</td>\n",
       "      <td>0</td>\n",
       "      <td>[]</td>\n",
       "      <td>67757749</td>\n",
       "      <td>True</td>\n",
       "    </tr>\n",
       "    <tr>\n",
       "      <th>2</th>\n",
       "      <td>0</td>\n",
       "      <td>0</td>\n",
       "      <td>False</td>\n",
       "      <td>0</td>\n",
       "      <td>[{'id': '4bf58dd8d48988d16a941735', 'name': 'B...</td>\n",
       "      <td>False</td>\n",
       "      <td>4a7daa29f964a52012ef1fe3</td>\n",
       "      <td>1701 Market St, 1st Floor, 6 Penn Ctr</td>\n",
       "      <td>US</td>\n",
       "      <td>Philadelphia</td>\n",
       "      <td>United States</td>\n",
       "      <td>John F Kennedy Blvd</td>\n",
       "      <td>302</td>\n",
       "      <td>[1701 Market St, 1st Floor, 6 Penn Ctr (John F...</td>\n",
       "      <td>[{'lng': -75.168467, 'label': 'display', 'lat'...</td>\n",
       "      <td>39.953650</td>\n",
       "      <td>-75.168467</td>\n",
       "      <td>NaN</td>\n",
       "      <td>19103</td>\n",
       "      <td>PA</td>\n",
       "      <td>Corner Bakery Cafe</td>\n",
       "      <td>v-1555692433</td>\n",
       "      <td>0</td>\n",
       "      <td>0</td>\n",
       "      <td>0</td>\n",
       "      <td>0</td>\n",
       "      <td>[]</td>\n",
       "      <td>NaN</td>\n",
       "      <td>True</td>\n",
       "    </tr>\n",
       "    <tr>\n",
       "      <th>3</th>\n",
       "      <td>0</td>\n",
       "      <td>0</td>\n",
       "      <td>False</td>\n",
       "      <td>0</td>\n",
       "      <td>[{'id': '56aa371be4b08b9a8d573538', 'name': 'T...</td>\n",
       "      <td>False</td>\n",
       "      <td>4abbbee5f964a520a98420e3</td>\n",
       "      <td>1113 Market St</td>\n",
       "      <td>US</td>\n",
       "      <td>Philadelphia</td>\n",
       "      <td>United States</td>\n",
       "      <td>at N 12th St</td>\n",
       "      <td>478</td>\n",
       "      <td>[1113 Market St (at N 12th St), Philadelphia, ...</td>\n",
       "      <td>[{'lng': -75.15962265339033, 'label': 'display...</td>\n",
       "      <td>39.952121</td>\n",
       "      <td>-75.159623</td>\n",
       "      <td>NaN</td>\n",
       "      <td>19107</td>\n",
       "      <td>PA</td>\n",
       "      <td>Hard Rock Cafe Philadelphia</td>\n",
       "      <td>v-1555692433</td>\n",
       "      <td>0</td>\n",
       "      <td>0</td>\n",
       "      <td>0</td>\n",
       "      <td>0</td>\n",
       "      <td>[]</td>\n",
       "      <td>NaN</td>\n",
       "      <td>True</td>\n",
       "    </tr>\n",
       "    <tr>\n",
       "      <th>4</th>\n",
       "      <td>0</td>\n",
       "      <td>0</td>\n",
       "      <td>False</td>\n",
       "      <td>0</td>\n",
       "      <td>[{'id': '4bf58dd8d48988d16d941735', 'name': 'C...</td>\n",
       "      <td>False</td>\n",
       "      <td>4ac7705bf964a5203eb720e3</td>\n",
       "      <td>110 N 16th St</td>\n",
       "      <td>US</td>\n",
       "      <td>Philadelphia</td>\n",
       "      <td>United States</td>\n",
       "      <td>at Benjamin Franklin Pkwy</td>\n",
       "      <td>324</td>\n",
       "      <td>[110 N 16th St (at Benjamin Franklin Pkwy), Ph...</td>\n",
       "      <td>[{'lng': -75.16668257276343, 'label': 'display...</td>\n",
       "      <td>39.955285</td>\n",
       "      <td>-75.166683</td>\n",
       "      <td>NaN</td>\n",
       "      <td>19102</td>\n",
       "      <td>PA</td>\n",
       "      <td>Capriccio Cafe</td>\n",
       "      <td>v-1555692433</td>\n",
       "      <td>0</td>\n",
       "      <td>0</td>\n",
       "      <td>0</td>\n",
       "      <td>0</td>\n",
       "      <td>[]</td>\n",
       "      <td>NaN</td>\n",
       "      <td>True</td>\n",
       "    </tr>\n",
       "  </tbody>\n",
       "</table>\n",
       "</div>"
      ],
      "text/plain": [
       "   beenHere.count  beenHere.lastCheckinExpiredAt  beenHere.marked  \\\n",
       "0               0                              0            False   \n",
       "1               0                              0            False   \n",
       "2               0                              0            False   \n",
       "3               0                              0            False   \n",
       "4               0                              0            False   \n",
       "\n",
       "   beenHere.unconfirmedCount  \\\n",
       "0                          0   \n",
       "1                          0   \n",
       "2                          0   \n",
       "3                          0   \n",
       "4                          0   \n",
       "\n",
       "                                          categories  hasPerk  \\\n",
       "0  [{'id': '4bf58dd8d48988d16d941735', 'name': 'C...    False   \n",
       "1  [{'id': '4bf58dd8d48988d155941735', 'name': 'G...    False   \n",
       "2  [{'id': '4bf58dd8d48988d16a941735', 'name': 'B...    False   \n",
       "3  [{'id': '56aa371be4b08b9a8d573538', 'name': 'T...    False   \n",
       "4  [{'id': '4bf58dd8d48988d16d941735', 'name': 'C...    False   \n",
       "\n",
       "                         id                       location.address  \\\n",
       "0  4a5eba3cf964a5201cbf1fe3                         1636 Walnut St   \n",
       "1  40b28c80f964a520d3f81ee3                          264 S 16th St   \n",
       "2  4a7daa29f964a52012ef1fe3  1701 Market St, 1st Floor, 6 Penn Ctr   \n",
       "3  4abbbee5f964a520a98420e3                         1113 Market St   \n",
       "4  4ac7705bf964a5203eb720e3                          110 N 16th St   \n",
       "\n",
       "  location.cc location.city location.country       location.crossStreet  \\\n",
       "0          US  Philadelphia    United States                 at 17th St   \n",
       "1          US  Philadelphia    United States    btwn Locust & Spruce St   \n",
       "2          US  Philadelphia    United States        John F Kennedy Blvd   \n",
       "3          US  Philadelphia    United States               at N 12th St   \n",
       "4          US  Philadelphia    United States  at Benjamin Franklin Pkwy   \n",
       "\n",
       "   location.distance                          location.formattedAddress  \\\n",
       "0                440  [1636 Walnut St (at 17th St), Philadelphia, PA...   \n",
       "1                597  [264 S 16th St (btwn Locust & Spruce St), Phil...   \n",
       "2                302  [1701 Market St, 1st Floor, 6 Penn Ctr (John F...   \n",
       "3                478  [1113 Market St (at N 12th St), Philadelphia, ...   \n",
       "4                324  [110 N 16th St (at Benjamin Franklin Pkwy), Ph...   \n",
       "\n",
       "                             location.labeledLatLngs  location.lat  \\\n",
       "0  [{'lng': -75.16899160571018, 'label': 'display...     39.949920   \n",
       "1  [{'lng': -75.1680031887503, 'label': 'display'...     39.947681   \n",
       "2  [{'lng': -75.168467, 'label': 'display', 'lat'...     39.953650   \n",
       "3  [{'lng': -75.15962265339033, 'label': 'display...     39.952121   \n",
       "4  [{'lng': -75.16668257276343, 'label': 'display...     39.955285   \n",
       "\n",
       "   location.lng location.neighborhood location.postalCode location.state  \\\n",
       "0    -75.168992                   NaN               19103             PA   \n",
       "1    -75.168003    Rittenhouse Square               19102             PA   \n",
       "2    -75.168467                   NaN               19103             PA   \n",
       "3    -75.159623                   NaN               19107             PA   \n",
       "4    -75.166683                   NaN               19102             PA   \n",
       "\n",
       "                          name    referralId  stats.checkinsCount  \\\n",
       "0         Capital One 360 Café  v-1555692433                    0   \n",
       "1                  Monk's Cafe  v-1555692433                    0   \n",
       "2           Corner Bakery Cafe  v-1555692433                    0   \n",
       "3  Hard Rock Cafe Philadelphia  v-1555692433                    0   \n",
       "4               Capriccio Cafe  v-1555692433                    0   \n",
       "\n",
       "   stats.tipCount  stats.usersCount  stats.visitsCount venueChains  \\\n",
       "0               0                 0                  0          []   \n",
       "1               0                 0                  0          []   \n",
       "2               0                 0                  0          []   \n",
       "3               0                 0                  0          []   \n",
       "4               0                 0                  0          []   \n",
       "\n",
       "  venuePage.id  verified  \n",
       "0          NaN      True  \n",
       "1     67757749      True  \n",
       "2          NaN      True  \n",
       "3          NaN      True  \n",
       "4          NaN      True  "
      ]
     },
     "execution_count": 74,
     "metadata": {},
     "output_type": "execute_result"
    }
   ],
   "source": [
    "results = requests.get(url3).json()\n",
    "venues = results['response']['venues']\n",
    "\n",
    "# Get venue results and respresent is as a dataframe\n",
    "dataframe = json_normalize(venues)\n",
    "dataframe.head()"
   ]
  },
  {
   "cell_type": "code",
   "execution_count": 19,
   "metadata": {},
   "outputs": [
    {
     "data": {
      "text/plain": [
       "'https://api.foursquare.com/v2/venues/trending?client_id=RE1KGISJCHZXL1BIKGR21N5RXCX4S2VO0J3QEFWFHAJ1R0YV&client_secret=S1DBFLZGO3K4Y45X1LCRD4J0CHHORYWB5H1UIT2AISUPYOXD&ll=39.9526,-75.1652&v=20171018&query=Cafe&radius=2000&limit=30'"
      ]
     },
     "execution_count": 19,
     "metadata": {},
     "output_type": "execute_result"
    }
   ],
   "source": [
    "url4 = 'https://api.foursquare.com/v2/venues/trending?client_id={}&client_secret={}&ll={},{}&v={}&query={}&radius={}&limit={}'.format(CLIENT_ID, CLIENT_SECRET, latitude, longitude, VERSION, search_term, radius, LIMIT)\n",
    "url4"
   ]
  },
  {
   "cell_type": "code",
   "execution_count": 17,
   "metadata": {},
   "outputs": [
    {
     "name": "stdout",
     "output_type": "stream",
     "text": [
      "{'response': {'venues': []}, 'meta': {'requestId': '5cba209b1ed2196d930b4846', 'code': 200}}\n"
     ]
    }
   ],
   "source": [
    "response = urllib.request.urlopen(url4)\n",
    "str_response1 = response.read().decode('utf-8')\n",
    "obj1 = json.loads(str_response1)\n",
    "print(obj1)"
   ]
  }
 ],
 "metadata": {
  "kernelspec": {
   "display_name": "Python 3.5",
   "language": "python",
   "name": "python3"
  },
  "language_info": {
   "codemirror_mode": {
    "name": "ipython",
    "version": 3
   },
   "file_extension": ".py",
   "mimetype": "text/x-python",
   "name": "python",
   "nbconvert_exporter": "python",
   "pygments_lexer": "ipython3",
   "version": "3.5.5"
  }
 },
 "nbformat": 4,
 "nbformat_minor": 1
}
